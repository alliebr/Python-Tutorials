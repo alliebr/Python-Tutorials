{
 "cells": [
  {
   "cell_type": "code",
   "execution_count": 2,
   "id": "73103f8c",
   "metadata": {},
   "outputs": [
    {
     "name": "stdout",
     "output_type": "stream",
     "text": [
      "2013 Subaru Outback\n",
      "This car has 23500 miles on it.\n"
     ]
    }
   ],
   "source": [
    "# here is a simple class that would be a program for a car\n",
    "class Car():\n",
    "\t\"\"\"A basic model of the coding in a car.\"\"\"\n",
    "\t\n",
    "# we initialize using the __init__() method, make sure it has “self” first, then add the parameters\n",
    "# we also assign the intake variables of make, model, and year to internal class variables\n",
    "# since this is for a new car, we set the odometer reading to 0\n",
    "\tdef __init__(self, make, model, year):\n",
    "\t\tself.make = make\t\n",
    "\t\tself.model = model\n",
    "\t\tself.year = year\n",
    "\t\tself.odometer_reading = 0\n",
    "\t\t\n",
    "\tdef get_descriptive_name(self):\n",
    "\t\tlong_name = str(self.year) + ' ' + self.make + ' ' + self.model\n",
    "\t\treturn long_name.title()\n",
    "\n",
    "\tdef check_gas_tank(level):\n",
    "\t\tprint(\"Your gas tank is \" + level)\n",
    "\t\t\n",
    "\tdef read_odometer(self):\n",
    "\t\tprint(\"This car has \" + str(self.odometer_reading) + \" miles on it.\")\n",
    "\n",
    "\tdef update_odometer(self, mileage):\n",
    "\t\tif mileage >= self.odometer_reading:\n",
    "\t\t\tself.odometer_reading = mileage\n",
    "\t\telse:\n",
    "\t\t\tprint(\"You can’t roll back an odometer!\")\n",
    "\n",
    "\tdef increment_odometer(self, miles):\n",
    "\t\tself.odometer_reading += miles\n",
    "\t\t\n",
    "\n",
    "\n",
    "# Now you can make an instance using the Car() class and play with it\n",
    "my_gas_car = Car('subaru', 'outback', 2013)\n",
    "print(my_gas_car.get_descriptive_name())\n",
    "\n",
    "my_gas_car.update_odometer(23500)\n",
    "my_gas_car.read_odometer()\n"
   ]
  },
  {
   "cell_type": "code",
   "execution_count": 11,
   "id": "66430e7e",
   "metadata": {},
   "outputs": [
    {
     "name": "stdout",
     "output_type": "stream",
     "text": [
      "2016 Tesla Model S\n",
      "This car has a 70-kWh battery.\n",
      "None\n"
     ]
    }
   ],
   "source": [
    "# here is a simple class that would be a program for a car\n",
    "class Car():\n",
    "\t\"\"\"A basic model of the coding in a car.\"\"\"\n",
    "\t\n",
    "# we initialize using the __init__() method, make sure it has “self” first, then add the parameters\n",
    "# we also assign the intake variables of make, model, and year to internal class variables\n",
    "# since this is for a new car, we set the odometer reading to 0\n",
    "\tdef __init__(self, make, model, year):\n",
    "\t\tself.make = make\t\n",
    "\t\tself.model = model\n",
    "\t\tself.year = year\n",
    "\t\tself.odometer_reading = 0\n",
    "\t\t\n",
    "\tdef get_descriptive_name(self):\n",
    "\t\tlong_name = str(self.year) + ' ' + self.make + ' ' + self.model\n",
    "\t\treturn long_name.title()\n",
    "\n",
    "\tdef check_gas_tank(level):\n",
    "\t\tprint(\"Your gas tank is \" + level)\n",
    "\t\t\n",
    "\tdef read_odometer(self):\n",
    "\t\tprint(\"This car has \" + str(self.odometer_reading) + \" miles on it.\")\n",
    "\n",
    "\tdef update_odometer(self, mileage):\n",
    "\t\tif mileage >= self.odometer_reading:\n",
    "\t\t\tself.odometer_reading = mileage\n",
    "\t\telse:\n",
    "\t\t\tprint(\"You can’t roll back an odometer!\")\n",
    "\n",
    "\tdef increment_odometer(self, miles):\n",
    "\t\tself.odometer_reading += miles\n",
    "\t\t\n",
    "        \n",
    "#The code above is enough, and if you wanted to make an instance of the ElectricCar() class you could, but it would just be the same as the Car() class. In order to make it different, we have to add some new methods and attributes. \n",
    "\n",
    "# first we add an attribute for the battery size and a new method to describe the battery in\n",
    "# kiloWatt hours (kWh)\n",
    "# The previous code is shown so that you can see the whole piece together.\n",
    "class ElectricCar(Car):\n",
    "\t\"\"\"Represents a car with the specifics of an electric car.\"\"\"\n",
    "\n",
    "\tdef __init__(self, make, model, year):\n",
    "\t\t\"\"\"Initialize attributes of the parent Car() class.\"\"\"\n",
    "\t\tsuper().__init__(make, model, year)\n",
    "\t\tself.battery_size = 70\n",
    "\n",
    "\tdef describe_battery(self):\n",
    "\t\t\"\"\"Print a statement describing the battery size.\"\"\"\n",
    "\t\tprint(\"This car has a \" + str(self.battery_size) + \"-kWh battery.\")\n",
    "\n",
    "# Now you can make an instance using the ElectricCar() class. It has all the properties of the\n",
    "# Car() class plus the features we added for a battery\n",
    "my_electric_car = ElectricCar('tesla', 'model s', 2016)\n",
    "print(my_electric_car.get_descriptive_name())\n",
    "\n",
    "print(my_electric_car.describe_battery())"
   ]
  },
  {
   "cell_type": "code",
   "execution_count": null,
   "id": "bea525f8",
   "metadata": {},
   "outputs": [],
   "source": []
  },
  {
   "cell_type": "code",
   "execution_count": null,
   "id": "56dcb24f",
   "metadata": {},
   "outputs": [],
   "source": []
  }
 ],
 "metadata": {
  "kernelspec": {
   "display_name": "Python 3",
   "language": "python",
   "name": "python3"
  },
  "language_info": {
   "codemirror_mode": {
    "name": "ipython",
    "version": 3
   },
   "file_extension": ".py",
   "mimetype": "text/x-python",
   "name": "python",
   "nbconvert_exporter": "python",
   "pygments_lexer": "ipython3",
   "version": "3.8.8"
  }
 },
 "nbformat": 4,
 "nbformat_minor": 5
}
